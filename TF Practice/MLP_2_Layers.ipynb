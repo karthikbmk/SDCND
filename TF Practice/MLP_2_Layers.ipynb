{
 "cells": [
  {
   "cell_type": "code",
   "execution_count": 1,
   "metadata": {
    "collapsed": true
   },
   "outputs": [],
   "source": [
    "import tensorflow as tf"
   ]
  },
  {
   "cell_type": "markdown",
   "metadata": {},
   "source": [
    "### Import MNSIT"
   ]
  },
  {
   "cell_type": "code",
   "execution_count": 2,
   "metadata": {
    "collapsed": false
   },
   "outputs": [
    {
     "name": "stdout",
     "output_type": "stream",
     "text": [
      "Extracting ./train-images-idx3-ubyte.gz\n",
      "Extracting ./train-labels-idx1-ubyte.gz\n",
      "Extracting ./t10k-images-idx3-ubyte.gz\n",
      "Extracting ./t10k-labels-idx1-ubyte.gz\n"
     ]
    }
   ],
   "source": [
    "from tensorflow.examples.tutorials.mnist import input_data\n",
    "mnist = input_data.read_data_sets(\".\",one_hot=True,reshape=False)"
   ]
  },
  {
   "cell_type": "markdown",
   "metadata": {},
   "source": [
    "### Specify Params"
   ]
  },
  {
   "cell_type": "code",
   "execution_count": 3,
   "metadata": {
    "collapsed": true
   },
   "outputs": [],
   "source": [
    "lrn_rate = 0.01\n",
    "epochs = 20\n",
    "batch_size = 100\n",
    "\n",
    "n_input = 784\n",
    "n_hidden = 200\n",
    "n_output = 10"
   ]
  },
  {
   "cell_type": "markdown",
   "metadata": {},
   "source": [
    "### Weights and biases"
   ]
  },
  {
   "cell_type": "code",
   "execution_count": 4,
   "metadata": {
    "collapsed": false
   },
   "outputs": [],
   "source": [
    "weights = {\n",
    "    'hidden' : tf.Variable(tf.random_normal([n_input,n_hidden])),\n",
    "    'output' : tf.Variable(tf.random_normal([n_hidden,n_output]))\n",
    "}\n",
    "\n",
    "biases = {\n",
    "    'hidden' : tf.Variable(tf.random_normal([n_hidden])),\n",
    "    'output' : tf.Variable(tf.random_normal([n_output]))\n",
    "}"
   ]
  },
  {
   "cell_type": "markdown",
   "metadata": {},
   "source": [
    "### Graph Inputs"
   ]
  },
  {
   "cell_type": "code",
   "execution_count": 5,
   "metadata": {
    "collapsed": true
   },
   "outputs": [],
   "source": [
    "x = tf.placeholder(\"float\",[None,28,28,1])\n",
    "y = tf.placeholder(\"float\",[None,n_output])\n",
    "\n",
    "x_flat = tf.reshape(x,[-1,n_input])"
   ]
  },
  {
   "cell_type": "markdown",
   "metadata": {},
   "source": [
    "### Neural Net Graph"
   ]
  },
  {
   "cell_type": "code",
   "execution_count": 6,
   "metadata": {
    "collapsed": false
   },
   "outputs": [],
   "source": [
    "hid_layer = tf.add(tf.matmul(x_flat,weights['hidden']),biases['hidden'])\n",
    "hid_layer = tf.nn.relu(hid_layer)\n",
    "\n",
    "op_layer = tf.add(tf.matmul(hid_layer,weights['output']),biases['output'])"
   ]
  },
  {
   "cell_type": "markdown",
   "metadata": {},
   "source": [
    "### Define Cost and Cost Minimizer function"
   ]
  },
  {
   "cell_type": "code",
   "execution_count": 7,
   "metadata": {
    "collapsed": true
   },
   "outputs": [],
   "source": [
    "cost = tf.reduce_mean(tf.nn.softmax_cross_entropy_with_logits(logits = op_layer,labels = y))\n",
    "optimizer = tf.train.GradientDescentOptimizer(learning_rate = lrn_rate).minimize(cost)"
   ]
  },
  {
   "cell_type": "markdown",
   "metadata": {},
   "source": [
    "### Run the Graph"
   ]
  },
  {
   "cell_type": "code",
   "execution_count": 8,
   "metadata": {
    "collapsed": false,
    "deletable": true,
    "editable": true
   },
   "outputs": [
    {
     "name": "stdout",
     "output_type": "stream",
     "text": [
      "At Epoch  0 Cost =  10.0033\n",
      "At Epoch  1 Cost =  6.75836\n",
      "At Epoch  2 Cost =  4.33378\n",
      "At Epoch  3 Cost =  6.19574\n",
      "At Epoch  4 Cost =  2.39442\n",
      "At Epoch  5 Cost =  3.47026\n",
      "At Epoch  6 Cost =  3.40922\n",
      "At Epoch  7 Cost =  2.20693\n",
      "At Epoch  8 Cost =  1.78819\n",
      "At Epoch  9 Cost =  2.7677\n",
      "At Epoch  10 Cost =  1.89134\n",
      "At Epoch  11 Cost =  0.812733\n",
      "At Epoch  12 Cost =  1.89781\n",
      "At Epoch  13 Cost =  2.0007\n",
      "At Epoch  14 Cost =  2.39801\n",
      "At Epoch  15 Cost =  1.67371\n",
      "At Epoch  16 Cost =  2.0452\n",
      "At Epoch  17 Cost =  1.5799\n",
      "At Epoch  18 Cost =  1.14064\n",
      "At Epoch  19 Cost =  1.06611\n",
      "0.886\n"
     ]
    }
   ],
   "source": [
    "init = tf.global_variables_initializer()\n",
    "with tf.Session() as sess:\n",
    "    sess.run(init)\n",
    "    \n",
    "    for epoch in range(epochs):\n",
    "        total_batches = int(mnist.train.num_examples/batch_size)\n",
    "        \n",
    "        for batch in range(total_batches):\n",
    "            batch_x, batch_y = mnist.train.next_batch(batch_size)\n",
    "            \n",
    "            sess.run(optimizer,feed_dict= {x : batch_x, y: batch_y})\n",
    "            \n",
    "        error = sess.run(cost, feed_dict= {x : batch_x, y: batch_y})\n",
    "            \n",
    "        print (\"At Epoch \",epoch, \"Cost = \",error)\n",
    "    \n",
    "    #Test error\n",
    "    correct = tf.equal(tf.arg_max(op_layer,1),tf.arg_max(y,1))\n",
    "    accuracy = tf.reduce_mean(tf.cast(correct,tf.float32))\n",
    "    print(accuracy.eval({x:mnist.test.images[:500],y:mnist.test.labels[:500]}))"
   ]
  }
 ],
 "metadata": {
  "kernelspec": {
   "display_name": "Python 3",
   "language": "python",
   "name": "python3"
  },
  "language_info": {
   "codemirror_mode": {
    "name": "ipython",
    "version": 3
   },
   "file_extension": ".py",
   "mimetype": "text/x-python",
   "name": "python",
   "nbconvert_exporter": "python",
   "pygments_lexer": "ipython3",
   "version": "3.5.2"
  }
 },
 "nbformat": 4,
 "nbformat_minor": 2
}
