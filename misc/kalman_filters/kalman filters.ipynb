{
 "cells": [
  {
   "cell_type": "markdown",
   "metadata": {},
   "source": [
    "#### Implement a Kalman filter to fit a 1D dataset"
   ]
  },
  {
   "cell_type": "code",
   "execution_count": 13,
   "metadata": {},
   "outputs": [],
   "source": [
    "class kalman_filter:\n",
    "    def __init__(self, true_val, init_est, init_est_err):\n",
    "        '''Initialize the filter\n",
    "        '''\n",
    "        self.true_val = true_val\n",
    "        \n",
    "        self.init_est = init_est\n",
    "        self.init_est_err = init_est_err\n",
    "    \n",
    "    def get_kalman_gain(self, est_error, meas_error):\n",
    "        return est_error / (est_error + meas_error)\n",
    "    \n",
    "    def update_estimate(self, prev_est, gain, measurement):\n",
    "        return prev_est + (gain*(measurement - prev_est))\n",
    "    \n",
    "    def update_estimate_error(self, prev_est_error, gain):\n",
    "        return prev_est_error*(1 - gain)\n",
    "    \n",
    "    def iterate(self, measures, measure_errors):\n",
    "\n",
    "        cur_est = self.init_est\n",
    "        cur_est_err = self.init_est_err                \n",
    "        \n",
    "        for cur_meas, cur_meas_error in zip(measures, measure_errors):\n",
    "            gain = self.get_kalman_gain(cur_est_err, cur_meas_error)\n",
    "            cur_est = self.update_estimate(cur_est, gain, cur_meas)\n",
    "            cur_est_err = self.update_estimate_error(cur_est_err, gain)\n",
    "        return cur_est\n",
    "            "
   ]
  },
  {
   "cell_type": "code",
   "execution_count": 14,
   "metadata": {},
   "outputs": [
    {
     "data": {
      "text/plain": [
       "71.0"
      ]
     },
     "execution_count": 14,
     "metadata": {},
     "output_type": "execute_result"
    }
   ],
   "source": [
    "measures = [75, 71, 70, 74]\n",
    "measure_errors = [4, 4, 4, 4]\n",
    "\n",
    "kf = kalman_filter(72, 68, 2)\n",
    "kf.iterate(measures, measure_errors)"
   ]
  },
  {
   "cell_type": "code",
   "execution_count": null,
   "metadata": {},
   "outputs": [],
   "source": []
  }
 ],
 "metadata": {
  "kernelspec": {
   "display_name": "Python 3",
   "language": "python",
   "name": "python3"
  },
  "language_info": {
   "codemirror_mode": {
    "name": "ipython",
    "version": 3
   },
   "file_extension": ".py",
   "mimetype": "text/x-python",
   "name": "python",
   "nbconvert_exporter": "python",
   "pygments_lexer": "ipython3",
   "version": "3.5.2"
  }
 },
 "nbformat": 4,
 "nbformat_minor": 2
}
